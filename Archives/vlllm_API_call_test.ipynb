{
 "cells": [
  {
   "cell_type": "code",
   "execution_count": 1,
   "id": "d4b87840",
   "metadata": {},
   "outputs": [],
   "source": [
    "from openai import OpenAI"
   ]
  },
  {
   "cell_type": "code",
   "execution_count": null,
   "id": "82ede71d",
   "metadata": {},
   "outputs": [],
   "source": [
    "openai_api_key = \"EMPTY\"\n",
    "openai_api_base = \"http://localhost:8005/v1\"\n",
    "\n",
    "client = OpenAI(\n",
    "    api_key=openai_api_key,\n",
    "    base_url=openai_api_base,\n",
    ")"
   ]
  },
  {
   "cell_type": "code",
   "execution_count": 20,
   "id": "cddfcf9f",
   "metadata": {},
   "outputs": [],
   "source": [
    "# Single-image input inference\n",
    "image_url = \"https://cdn.britannica.com/61/93061-050-99147DCE/Statue-of-Liberty-Island-New-York-Bay.jpg\""
   ]
  },
  {
   "cell_type": "code",
   "execution_count": 21,
   "id": "422bbcb4",
   "metadata": {},
   "outputs": [
    {
     "name": "stdout",
     "output_type": "stream",
     "text": [
      "Chat completion output: 반갑습니다! 이제 큰 눈동자인 VARCO-VISION이 시작되었습니다. 📋👀 답변해 주실 준비가 되셨나요? 말씀해 주세요.\n"
     ]
    }
   ],
   "source": [
    "chat_response = client.chat.completions.create(\n",
    "    model=\"VARCO-VISION-2.0-14B\",\n",
    "    messages=[{\n",
    "        \"role\": \"user\",\n",
    "        \"content\": [\n",
    "            {\"type\": \"text\", \"text\": \"반갑습니다.\"},\n",
    "        ],\n",
    "    }],\n",
    ")\n",
    "print(\"Chat completion output:\", chat_response.choices[0].message.content)"
   ]
  },
  {
   "cell_type": "code",
   "execution_count": 23,
   "id": "f2328e83",
   "metadata": {},
   "outputs": [
    {
     "name": "stdout",
     "output_type": "stream",
     "text": [
      "Chat completion output: 이 이미지는 맑은 날 대서양의 섬에 서 있는 미국의 상징적인 자유의 여신상을 보여줍니다. 자유의 여신상은 바로크 화강암 받침대 위에 세워져 있습니다. 배경에는 맨해튼의 스카이라인이 눈에 띄며 현대 도시 건축의 특징인 수많은 고층 빌딩들과 다양한 색상의 건물들이 대기 중의 지평선과 어우러져 있습니다. 이 대비는 신여성상에 의해 상징되는 자유와 인류의 가치의 초석과 그녀가 위치한 번성하고 역동적인 대도시의 현실 사이의 극적인 대조를 강조합니다. 광활한 바다는 피사체의 웅장함을 더욱 돋보이게 하고, 먼 곳에 몇 척의 보트가 보입니다. 밝은 태양이 도시 경관 전체를 얼룩덜룩한 빛으로 채우며 사진에 생동감 있고 강렬한 분위기를 부여합니다.\n"
     ]
    }
   ],
   "source": [
    "chat_response = client.chat.completions.create(\n",
    "    model=\"VARCO-VISION-2.0-14B\",\n",
    "    messages=[{\n",
    "        \"role\": \"user\",\n",
    "        \"content\": [\n",
    "            {\"type\": \"text\", \"text\": \"이 이미지를 자세히 설명해 주세요.\"},\n",
    "            {\"type\": \"image_url\", \"image_url\": {\"url\": image_url}},\n",
    "        ],\n",
    "    }],\n",
    ")\n",
    "print(\"Chat completion output:\", chat_response.choices[0].message.content)"
   ]
  },
  {
   "cell_type": "code",
   "execution_count": 26,
   "id": "eb28247d",
   "metadata": {},
   "outputs": [
    {
     "name": "stdout",
     "output_type": "stream",
     "text": [
      "Chat completion output: 이 이미지에는 두 마리의 인상적인 야생 동물이 출현합니다: 한 마리는 물 위에 떠 있는 오리이고, 다른 한 마리는 초원에 서 있는 사자입니다.\n",
      "\n",
      "상단 장면에서는 수컷 청둥오리로 보이는 오리가 물 위에 떠 있습니다. 이 오리는 매우 생생한 녹색 머리를 가진 운문오리일 가능성이 높습니다. 노란 부리, 갈색과 흰색이 섞인 날개, 물가 근처에 위치해 있는 모습이 아름답게 포착되었습니다. 오리 주변의 물결은 오리의 존재로 인해 형성된 것으로 보이며, 하늘빛 파란 물빛이 배경으로 펼쳐져 있습니다.\n",
      "\n",
      "하단 장면에서는 매우 위풍당당한 사자의 모습이 엿보입니다. 이 사자는 전형적인 암사자로 보이며, 풍성하고 웅장한 갈색 머리말과 긴 수염이 특징적입니다. 사자의 무릎 일부만 프레임에 포착되어 있어 이미지의 중심이 되지 못하지만, 그럼에도 불구하고 사자의 웅장한 존재감은 분명하게 드러납니다.\n",
      "\n",
      "이 두 장면을 통해 매우 다른 두 종의 야생 동물들이 각자의 서식지에서의 모습을 생생하게 보여주고 있습니다. 각 이미지는 잘 촬영되어 있어 동물들의 아름다움과 특징, 그리고 그들이 사는 자연 환경을 매우 효과적으로 전달하고 있습니다.\n"
     ]
    }
   ],
   "source": [
    "\n",
    "# Multi-image input inference\n",
    "image_url_duck = \"https://upload.wikimedia.org/wikipedia/commons/d/da/2015_Kaczka_krzy%C5%BCowka_w_wodzie_%28samiec%29.jpg\"\n",
    "image_url_lion = \"https://upload.wikimedia.org/wikipedia/commons/7/77/002_The_lion_king_Snyggve_in_the_Serengeti_National_Park_Photo_by_Giles_Laurent.jpg\"\n",
    "\n",
    "chat_response = client.chat.completions.create(\n",
    "    model=\"VARCO-VISION-2.0-14B\",\n",
    "    messages=[{\n",
    "        \"role\": \"user\",\n",
    "        \"content\": [\n",
    "            {\"type\": \"text\", \"text\": \"이미지에 나오는 동물들에 대해서 자세히 설명해 주세요.\"},\n",
    "            {\"type\": \"image_url\", \"image_url\": {\"url\": image_url_duck}},\n",
    "            {\"type\": \"image_url\", \"image_url\": {\"url\": image_url_lion}},\n",
    "        ],\n",
    "    }],\n",
    ")\n",
    "print(\"Chat completion output:\", chat_response.choices[0].message.content)"
   ]
  }
 ],
 "metadata": {
  "kernelspec": {
   "display_name": "Culture",
   "language": "python",
   "name": "python3"
  },
  "language_info": {
   "codemirror_mode": {
    "name": "ipython",
    "version": 3
   },
   "file_extension": ".py",
   "mimetype": "text/x-python",
   "name": "python",
   "nbconvert_exporter": "python",
   "pygments_lexer": "ipython3",
   "version": "3.10.18"
  }
 },
 "nbformat": 4,
 "nbformat_minor": 5
}
